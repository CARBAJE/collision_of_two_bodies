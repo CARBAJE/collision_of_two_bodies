{
 "cells": [
  {
   "cell_type": "markdown",
   "id": "af850fbb",
   "metadata": {},
   "source": [
    "# Evaluación del caso “Binaria + planeta cerca del radio de Hill”\n",
    "\n",
    "En esta sección medimos cómo afecta la optimización al exponente de Lyapunov del sistema.  \n",
    "Partimos de un estado base (masas en el centro de sus `mass_bounds`) para obtener un λ de referencia y lo comparamos con el mejor individuo que devolvió el GA.  \n",
    "Luego integramos la trayectoria con las masas óptimas y visualizamos el comportamiento de los tres cuerpos, poniendo especial atención a los encuentros cercanos del “planeta” con el binario.\n",
    "\n",
    "> **Interpretación**\n",
    "> - Un λ más pequeño indica una dinámica menos caótica.\n",
    "> - El gráfico permite comprobar si el planeta logra mantenerse en órbita o si termina inestable por la proximidad al radio de Hill.\n"
   ]
  },
  {
   "cell_type": "markdown",
   "id": "52da4f8f",
   "metadata": {},
   "source": [
    "## Preparación del entorno\n",
    "Aseguramos que el directorio raíz del proyecto esté disponible en `sys.path` para poder importar los módulos internos sin problemas, independientemente de desde dónde se ejecute el notebook.\n"
   ]
  },
  {
   "cell_type": "code",
   "execution_count": 1,
   "id": "110ab1ef",
   "metadata": {},
   "outputs": [],
   "source": [
    "import sys\n",
    "from pathlib import Path\n",
    "\n",
    "repo_root = Path.cwd().resolve().parents[1]  # …/collision_of_two_bodies\n",
    "if str(repo_root) not in sys.path:\n",
    "    sys.path.insert(0, str(repo_root))\n"
   ]
  },
  {
   "cell_type": "markdown",
   "id": "6837d96d",
   "metadata": {},
   "source": [
    "## Dependencias principales\n",
    "Importamos los componentes clave del pipeline:\n",
    "- `Config` y utilidades de seeding.\n",
    "- El controlador híbrido (GA + refinamiento).\n",
    "- Herramientas de visualización y simulación REBOUND.\n",
    "- `numpy` para cualquier análisis adicional.\n"
   ]
  },
  {
   "cell_type": "code",
   "execution_count": 2,
   "id": "e29f23a8",
   "metadata": {},
   "outputs": [],
   "source": [
    "from two_body import Config, set_global_seeds\n",
    "from two_body.core.telemetry import setup_logger\n",
    "from two_body.logic.controller import ContinuousOptimizationController\n",
    "from two_body.presentation.visualization import Visualizer\n",
    "from two_body.simulation.rebound_adapter import ReboundSim\n",
    "import numpy as np\n"
   ]
  },
  {
   "cell_type": "code",
   "execution_count": 3,
   "id": "032b9a39",
   "metadata": {},
   "outputs": [],
   "source": [
    "import logging\n",
    "from IPython.display import display, Markdown\n",
    "\n",
    "class NotebookHandler(logging.Handler):\n",
    "    def __init__(self):\n",
    "        super().__init__()\n",
    "        self.lines = []\n",
    "\n",
    "    def emit(self, record):\n",
    "        msg = self.format(record)\n",
    "        self.lines.append(msg)\n",
    "        print(msg)  # aparece en la celda conforme avanza\n",
    "\n",
    "handler = NotebookHandler()\n",
    "handler.setFormatter(logging.Formatter(\"[%(asctime)s] %(levelname)s - %(message)s\"))\n",
    "\n",
    "logger = setup_logger(level=\"DEBUG\")\n",
    "logger.handlers.clear()          # quita otros handlers previos\n",
    "logger.addHandler(handler)\n",
    "logger.setLevel(logging.DEBUG)\n"
   ]
  },
  {
   "cell_type": "markdown",
   "id": "9514d0ba",
   "metadata": {},
   "source": [
    "## Configuración del escenario “Binaria + planeta cerca del radio de Hill”\n",
    "Definimos la escena de estudio:\n",
    "- Dos estrellas de masas distintas orbitando el baricentro.\n",
    "- Un planeta tipo Júpiter ubicado cerca del radio de Hill.\n",
    "- Hiperparámetros del GA y de la fase continua orientados a detectar combinaciones de masas que mitiguen el caos.\n"
   ]
  },
  {
   "cell_type": "code",
   "execution_count": null,
   "id": "07da2226",
   "metadata": {},
   "outputs": [],
   "source": [
    "# [\"Binaria con planeta (Hill)\"]\n",
    "case = {\n",
    "    # Simulación\n",
    "    \"t_end_short\": 200.0,\n",
    "    \"t_end_long\": 4000.0,\n",
    "    \"dt\": 0.25,\n",
    "    \"integrator\": \"ias15\",\n",
    "    \"r0\": (\n",
    "        (-0.333, 0.0, 0.0),   # estrella 1 (1.0) orbitando el baricentro\n",
    "        (0.667, 0.0, 0.0),    # estrella 2 (0.5)\n",
    "        (1.2, 0.0, 0.0),      # “planeta” ~Júpiter cerca del límite de Hill\n",
    "    ),\n",
    "    \"v0\": (\n",
    "        (0.0, -0.912, 0.0),   # velocidad circular ajustada (signo opuesto a la otra estrella)\n",
    "        (0.0, 1.824, 0.0),\n",
    "        (0.0, 0.75, 0.0),     # ligeramente sub-circular para inducir encuentros\n",
    "    ),\n",
    "\n",
    "    # Parámetros físicos\n",
    "    \"mass_bounds\": (\n",
    "        (0.95, 1.05),         # estrella 1 alrededor de 1.0\n",
    "        (0.45, 0.55),         # estrella 2 alrededor de 0.5\n",
    "        (8e-4, 1.2e-3),       # planeta tipo Júpiter ~10⁻³\n",
    "    ),\n",
    "    \"G\": 1.0,\n",
    "    \"x0\": (-0.333, 0.0, 0.0, -0.912, 0.667, 0.0, 0.0, 1.824),\n",
    "\n",
    "    # Algoritmo genético\n",
    "    \"pop_size\": 96,\n",
    "    \"n_gen_step\": 4,\n",
    "    \"crossover\": 0.85,\n",
    "    \"mutation\": 0.25,\n",
    "    \"selection\": \"tournament\",\n",
    "    \"elitism\": 2,\n",
    "    \"seed\": 321,\n",
    "\n",
    "    # Optimización continua\n",
    "    \"max_epochs\": 80,\n",
    "    \"top_k_long\": 12,\n",
    "    \"stagnation_window\": 6,\n",
    "    \"stagnation_tol\": 5e-4,\n",
    "    \"local_radius\": 0.03,    # radio pequeño: ajusta finamente las masas\n",
    "    \"radius_decay\": 0.85,\n",
    "    \"time_budget_s\": 1500.0,\n",
    "    \"eval_budget\": 4500,\n",
    "\n",
    "    # Backend / cache\n",
    "    \"use_gpu\": \"false\",\n",
    "    \"batch_size\": 128,\n",
    "    \"cache_exact_max\": 500,\n",
    "    \"cache_approx_max\": 1500,\n",
    "\n",
    "    # I/O\n",
    "    \"artifacts_dir\": \"artifacts/hill_planet\",\n",
    "    \"save_plots\": True,\n",
    "    \"headless\": False,\n",
    "}\n"
   ]
  },
  {
   "cell_type": "code",
   "execution_count": 5,
   "id": "ce68e363",
   "metadata": {},
   "outputs": [],
   "source": [
    "cfg = Config(**case)\n",
    "set_global_seeds(cfg.seed)\n",
    "logger = setup_logger()"
   ]
  },
  {
   "cell_type": "markdown",
   "id": "eea51c21",
   "metadata": {},
   "source": [
    "## Ejecución del optimizador\n",
    "Inicializamos el controlador con la configuración anterior, habilitamos el registro de eventos y lanzamos el proceso completo de optimización. Al finalizar, presentamos los logs capturados junto con el resultado agregado (mejor combinación de masas encontrada y métricas básicas)."
   ]
  },
  {
   "cell_type": "code",
   "execution_count": 7,
   "id": "25c00c74",
   "metadata": {},
   "outputs": [
    {
     "name": "stdout",
     "output_type": "stream",
     "text": [
      "[2025-10-21 20:54:34,001] INFO - Starting optimization | pop=96 | dims=3 | time_budget=1500.0s | eval_budget=4500\n",
      "[2025-10-21 20:54:37,754] INFO - Epoch 0 | new global best (short) λ≈ -0.000261 | masses=(0.976395, 0.456018, 0.000943)\n",
      "[2025-10-21 20:54:47,241] INFO - Epoch 0 complete | λ_short≈ -0.000261 | evals short/long=96/12 | total evals=108 | radius=0.0300\n",
      "[2025-10-21 20:55:00,588] INFO - Epoch 1 complete | λ_short≈ -0.000052 | evals short/long=96/12 | total evals=216 | radius=0.0300\n",
      "[2025-10-21 20:55:13,499] INFO - Epoch 2 complete | λ_short≈ -0.000239 | evals short/long=96/12 | total evals=324 | radius=0.0300\n",
      "[2025-10-21 20:55:26,848] INFO - Epoch 3 complete | λ_short≈ 0.000173 | evals short/long=96/12 | total evals=432 | radius=0.0300\n",
      "[2025-10-21 20:55:39,832] INFO - Epoch 4 complete | λ_short≈ 0.000015 | evals short/long=96/12 | total evals=540 | radius=0.0300\n",
      "[2025-10-21 20:55:52,727] INFO - Epoch 5 complete | λ_short≈ -0.000098 | evals short/long=96/12 | total evals=648 | radius=0.0300\n",
      "[2025-10-21 20:55:56,404] INFO - Epoch 6 | new global best (short) λ≈ -0.000435 | masses=(1.038867, 0.464502, 0.000991)\n",
      "[2025-10-21 20:56:05,391] INFO - Epoch 6 complete | λ_short≈ -0.000435 | evals short/long=96/12 | total evals=756 | radius=0.0300\n",
      "[2025-10-21 20:56:08,941] INFO - Epoch 7 | new global best (short) λ≈ -0.000455 | masses=(0.985017, 0.457462, 0.001074)\n",
      "[2025-10-21 20:56:17,673] INFO - Epoch 7 complete | λ_short≈ -0.000455 | evals short/long=96/12 | total evals=864 | radius=0.0300\n",
      "[2025-10-21 20:56:29,874] INFO - Epoch 8 complete | λ_short≈ -0.000311 | evals short/long=96/12 | total evals=972 | radius=0.0300\n",
      "[2025-10-21 20:56:42,284] INFO - Epoch 9 complete | λ_short≈ -0.000134 | evals short/long=96/12 | total evals=1080 | radius=0.0300\n",
      "[2025-10-21 20:56:54,514] INFO - Epoch 10 complete | λ_short≈ -0.000362 | evals short/long=96/12 | total evals=1188 | radius=0.0300\n",
      "[2025-10-21 20:57:06,368] INFO - Epoch 11 complete | λ_short≈ -0.000293 | evals short/long=96/12 | total evals=1296 | radius=0.0300\n",
      "[2025-10-21 20:57:18,357] INFO - Epoch 12 complete | λ_short≈ -0.000118 | evals short/long=96/12 | total evals=1404 | radius=0.0300\n",
      "[2025-10-21 20:57:21,787] INFO - Epoch 13 | new global best (short) λ≈ -0.000566 | masses=(1.041211, 0.454195, 0.00095)\n",
      "[2025-10-21 20:57:30,036] INFO - Epoch 13 complete | λ_short≈ -0.000566 | evals short/long=96/12 | total evals=1512 | radius=0.0300\n",
      "[2025-10-21 20:57:42,011] INFO - Epoch 14 complete | λ_short≈ -0.000209 | evals short/long=96/12 | total evals=1620 | radius=0.0300\n",
      "[2025-10-21 20:57:53,884] INFO - Epoch 15 complete | λ_short≈ -0.000416 | evals short/long=96/12 | total evals=1728 | radius=0.0300\n",
      "[2025-10-21 20:58:05,476] INFO - Epoch 16 complete | λ_short≈ -0.000159 | evals short/long=96/12 | total evals=1836 | radius=0.0300\n",
      "[2025-10-21 20:58:17,642] INFO - Epoch 17 complete | λ_short≈ -0.000130 | evals short/long=96/12 | total evals=1944 | radius=0.0300\n",
      "[2025-10-21 20:58:29,456] INFO - Epoch 18 complete | λ_short≈ -0.000260 | evals short/long=96/12 | total evals=2052 | radius=0.0300\n",
      "[2025-10-21 20:58:41,344] INFO - Stagnation detected; reseeding around best candidate.\n",
      "[2025-10-21 20:58:41,344] INFO - Epoch 19 complete | λ_short≈ -0.000124 | evals short/long=96/12 | total evals=2160 | radius=0.0255\n",
      "[2025-10-21 20:58:52,230] INFO - Epoch 20 complete | λ_short≈ -0.000095 | evals short/long=96/12 | total evals=2268 | radius=0.0255\n",
      "[2025-10-21 20:59:03,343] INFO - Epoch 21 complete | λ_short≈ -0.000399 | evals short/long=96/12 | total evals=2376 | radius=0.0255\n",
      "[2025-10-21 20:59:14,471] INFO - Epoch 22 complete | λ_short≈ -0.000208 | evals short/long=96/12 | total evals=2484 | radius=0.0255\n",
      "[2025-10-21 20:59:25,582] INFO - Epoch 23 complete | λ_short≈ -0.000333 | evals short/long=96/12 | total evals=2592 | radius=0.0255\n",
      "[2025-10-21 20:59:36,726] INFO - Epoch 24 complete | λ_short≈ -0.000266 | evals short/long=96/12 | total evals=2700 | radius=0.0255\n",
      "[2025-10-21 20:59:47,874] INFO - Stagnation detected; reseeding around best candidate.\n",
      "[2025-10-21 20:59:47,874] INFO - Epoch 25 complete | λ_short≈ -0.000041 | evals short/long=96/12 | total evals=2808 | radius=0.0217\n",
      "[2025-10-21 20:59:58,705] INFO - Epoch 26 complete | λ_short≈ -0.000411 | evals short/long=96/12 | total evals=2916 | radius=0.0217\n",
      "[2025-10-21 21:00:09,700] INFO - Epoch 27 complete | λ_short≈ -0.000387 | evals short/long=96/12 | total evals=3024 | radius=0.0217\n",
      "[2025-10-21 21:00:20,704] INFO - Epoch 28 complete | λ_short≈ -0.000065 | evals short/long=96/12 | total evals=3132 | radius=0.0217\n",
      "[2025-10-21 21:00:31,664] INFO - Epoch 29 complete | λ_short≈ -0.000277 | evals short/long=96/12 | total evals=3240 | radius=0.0217\n",
      "[2025-10-21 21:00:42,560] INFO - Epoch 30 complete | λ_short≈ -0.000198 | evals short/long=96/12 | total evals=3348 | radius=0.0217\n",
      "[2025-10-21 21:00:53,513] INFO - Stagnation detected; reseeding around best candidate.\n",
      "[2025-10-21 21:00:53,513] INFO - Epoch 31 complete | λ_short≈ -0.000358 | evals short/long=96/12 | total evals=3456 | radius=0.0184\n",
      "[2025-10-21 21:01:04,585] INFO - Epoch 32 complete | λ_short≈ 0.000086 | evals short/long=96/12 | total evals=3564 | radius=0.0184\n",
      "[2025-10-21 21:01:15,765] INFO - Epoch 33 complete | λ_short≈ -0.000160 | evals short/long=96/12 | total evals=3672 | radius=0.0184\n",
      "[2025-10-21 21:01:26,788] INFO - Epoch 34 complete | λ_short≈ -0.000312 | evals short/long=96/12 | total evals=3780 | radius=0.0184\n",
      "[2025-10-21 21:01:37,900] INFO - Epoch 35 complete | λ_short≈ -0.000099 | evals short/long=96/12 | total evals=3888 | radius=0.0184\n",
      "[2025-10-21 21:01:48,729] INFO - Epoch 36 complete | λ_short≈ -0.000345 | evals short/long=96/12 | total evals=3996 | radius=0.0184\n",
      "[2025-10-21 21:02:00,051] INFO - Stagnation detected; reseeding around best candidate.\n",
      "[2025-10-21 21:02:00,051] INFO - Epoch 37 complete | λ_short≈ -0.000254 | evals short/long=96/12 | total evals=4104 | radius=0.0157\n",
      "[2025-10-21 21:02:11,277] INFO - Epoch 38 complete | λ_short≈ -0.000095 | evals short/long=96/12 | total evals=4212 | radius=0.0157\n",
      "[2025-10-21 21:02:22,460] INFO - Epoch 39 complete | λ_short≈ -0.000499 | evals short/long=96/12 | total evals=4320 | radius=0.0157\n",
      "[2025-10-21 21:02:33,694] INFO - Epoch 40 complete | λ_short≈ -0.000214 | evals short/long=96/12 | total evals=4428 | radius=0.0157\n",
      "[2025-10-21 21:02:44,723] INFO - Epoch 41 complete | λ_short≈ -0.000333 | evals short/long=96/12 | total evals=4536 | radius=0.0157\n",
      "[2025-10-21 21:02:44,723] INFO - Optimization completed | epochs=42 | evals=4536 | best λ≈ -0.000566 | wall=490.7s\n"
     ]
    },
    {
     "data": {
      "text/markdown": [
       "### Logs capturados"
      ],
      "text/plain": [
       "<IPython.core.display.Markdown object>"
      ]
     },
     "metadata": {},
     "output_type": "display_data"
    },
    {
     "data": {
      "text/plain": [
       "'[2025-10-21 20:52:45,331] INFO - Starting optimization | pop=96 | dims=3 | time_budget=1500.0s | eval_budget=4500\\n[2025-10-21 20:52:49,219] INFO - Epoch 0 | new global best (short) λ≈ 0.000063 | masses=(1.041211, 0.454312, 0.00095)\\n[2025-10-21 20:52:57,881] INFO - Epoch 0 | new global best (long) λ≈ 0.000000 | masses=(1.041211, 0.454312, 0.00095)\\n[2025-10-21 20:52:57,881] INFO - Epoch 0 | new global best (long) λ≈ -0.000003 | masses=(1.027446, 0.465782, 0.00084)\\n[2025-10-21 20:52:57,881] INFO - Epoch 0 complete | λ_short≈ 0.000063 | evals short/long=96/12 | total evals=108 | radius=0.0300\\n[2025-10-21 20:53:01,566] INFO - Epoch 1 | new global best (short) λ≈ -0.000224 | masses=(1.043921, 0.545591, 0.000873)\\n[2025-10-21 20:53:10,797] INFO - Epoch 1 complete | λ_short≈ -0.000224 | evals short/long=96/12 | total evals=216 | radius=0.0300\\n[2025-10-21 20:53:23,308] INFO - Epoch 2 complete | λ_short≈ -0.000052 | evals short/long=96/12 | total evals=324 | radius=0.0300\\n[2025-10-21 20:53:36,591] INFO - Epoch 3 complete | λ_short≈ 0.000026 | evals short/long=96/12 | total evals=432 | radius=0.0300\\n[2025-10-21 20:53:49,513] INFO - Epoch 4 complete | λ_short≈ -0.000077 | evals short/long=96/12 | total evals=540 | radius=0.0300\\n[2025-10-21 20:54:01,669] INFO - Epoch 5 complete | λ_short≈ -0.000193 | evals short/long=96/12 | total evals=648 | radius=0.0300\\n[2025-10-21 20:54:14,954] INFO - Epoch 6 complete | λ_short≈ 0.000127 | evals short/long=96/12 | total evals=756 | radius=0.0300\\n[2025-10-21 20:54:27,976] INFO - Stagnation detected; reseeding around best candidate.\\n[2025-10-21 20:54:27,976] INFO - Epoch 7 complete | λ_short≈ -0.000100 | evals short/long=96/12 | total evals=864 | radius=0.0255\\n[2025-10-21 20:54:34,001] INFO - Starting optimization | pop=96 | dims=3 | time_budget=1500.0s | eval_budget=4500\\n[2025-10-21 20:54:37,754] INFO - Epoch 0 | new global best (short) λ≈ -0.000261 | masses=(0.976395, 0.456018, 0.000943)\\n[2025-10-21 20:54:47,241] INFO - Epoch 0 complete | λ_short≈ -0.000261 | evals short/long=96/12 | total evals=108 | radius=0.0300\\n[2025-10-21 20:55:00,588] INFO - Epoch 1 complete | λ_short≈ -0.000052 | evals short/long=96/12 | total evals=216 | radius=0.0300\\n[2025-10-21 20:55:13,499] INFO - Epoch 2 complete | λ_short≈ -0.000239 | evals short/long=96/12 | total evals=324 | radius=0.0300\\n[2025-10-21 20:55:26,848] INFO - Epoch 3 complete | λ_short≈ 0.000173 | evals short/long=96/12 | total evals=432 | radius=0.0300\\n[2025-10-21 20:55:39,832] INFO - Epoch 4 complete | λ_short≈ 0.000015 | evals short/long=96/12 | total evals=540 | radius=0.0300\\n[2025-10-21 20:55:52,727] INFO - Epoch 5 complete | λ_short≈ -0.000098 | evals short/long=96/12 | total evals=648 | radius=0.0300\\n[2025-10-21 20:55:56,404] INFO - Epoch 6 | new global best (short) λ≈ -0.000435 | masses=(1.038867, 0.464502, 0.000991)\\n[2025-10-21 20:56:05,391] INFO - Epoch 6 complete | λ_short≈ -0.000435 | evals short/long=96/12 | total evals=756 | radius=0.0300\\n[2025-10-21 20:56:08,941] INFO - Epoch 7 | new global best (short) λ≈ -0.000455 | masses=(0.985017, 0.457462, 0.001074)\\n[2025-10-21 20:56:17,673] INFO - Epoch 7 complete | λ_short≈ -0.000455 | evals short/long=96/12 | total evals=864 | radius=0.0300\\n[2025-10-21 20:56:29,874] INFO - Epoch 8 complete | λ_short≈ -0.000311 | evals short/long=96/12 | total evals=972 | radius=0.0300\\n[2025-10-21 20:56:42,284] INFO - Epoch 9 complete | λ_short≈ -0.000134 | evals short/long=96/12 | total evals=1080 | radius=0.0300\\n[2025-10-21 20:56:54,514] INFO - Epoch 10 complete | λ_short≈ -0.000362 | evals short/long=96/12 | total evals=1188 | radius=0.0300\\n[2025-10-21 20:57:06,368] INFO - Epoch 11 complete | λ_short≈ -0.000293 | evals short/long=96/12 | total evals=1296 | radius=0.0300\\n[2025-10-21 20:57:18,357] INFO - Epoch 12 complete | λ_short≈ -0.000118 | evals short/long=96/12 | total evals=1404 | radius=0.0300\\n[2025-10-21 20:57:21,787] INFO - Epoch 13 | new global best (short) λ≈ -0.000566 | masses=(1.041211, 0.454195, 0.00095)\\n[2025-10-21 20:57:30,036] INFO - Epoch 13 complete | λ_short≈ -0.000566 | evals short/long=96/12 | total evals=1512 | radius=0.0300\\n[2025-10-21 20:57:42,011] INFO - Epoch 14 complete | λ_short≈ -0.000209 | evals short/long=96/12 | total evals=1620 | radius=0.0300\\n[2025-10-21 20:57:53,884] INFO - Epoch 15 complete | λ_short≈ -0.000416 | evals short/long=96/12 | total evals=1728 | radius=0.0300\\n[2025-10-21 20:58:05,476] INFO - Epoch 16 complete | λ_short≈ -0.000159 | evals short/long=96/12 | total evals=1836 | radius=0.0300\\n[2025-10-21 20:58:17,642] INFO - Epoch 17 complete | λ_short≈ -0.000130 | evals short/long=96/12 | total evals=1944 | radius=0.0300\\n[2025-10-21 20:58:29,456] INFO - Epoch 18 complete | λ_short≈ -0.000260 | evals short/long=96/12 | total evals=2052 | radius=0.0300\\n[2025-10-21 20:58:41,344] INFO - Stagnation detected; reseeding around best candidate.\\n[2025-10-21 20:58:41,344] INFO - Epoch 19 complete | λ_short≈ -0.000124 | evals short/long=96/12 | total evals=2160 | radius=0.0255\\n[2025-10-21 20:58:52,230] INFO - Epoch 20 complete | λ_short≈ -0.000095 | evals short/long=96/12 | total evals=2268 | radius=0.0255\\n[2025-10-21 20:59:03,343] INFO - Epoch 21 complete | λ_short≈ -0.000399 | evals short/long=96/12 | total evals=2376 | radius=0.0255\\n[2025-10-21 20:59:14,471] INFO - Epoch 22 complete | λ_short≈ -0.000208 | evals short/long=96/12 | total evals=2484 | radius=0.0255\\n[2025-10-21 20:59:25,582] INFO - Epoch 23 complete | λ_short≈ -0.000333 | evals short/long=96/12 | total evals=2592 | radius=0.0255\\n[2025-10-21 20:59:36,726] INFO - Epoch 24 complete | λ_short≈ -0.000266 | evals short/long=96/12 | total evals=2700 | radius=0.0255\\n[2025-10-21 20:59:47,874] INFO - Stagnation detected; reseeding around best candidate.\\n[2025-10-21 20:59:47,874] INFO - Epoch 25 complete | λ_short≈ -0.000041 | evals short/long=96/12 | total evals=2808 | radius=0.0217\\n[2025-10-21 20:59:58,705] INFO - Epoch 26 complete | λ_short≈ -0.000411 | evals short/long=96/12 | total evals=2916 | radius=0.0217\\n[2025-10-21 21:00:09,700] INFO - Epoch 27 complete | λ_short≈ -0.000387 | evals short/long=96/12 | total evals=3024 | radius=0.0217\\n[2025-10-21 21:00:20,704] INFO - Epoch 28 complete | λ_short≈ -0.000065 | evals short/long=96/12 | total evals=3132 | radius=0.0217\\n[2025-10-21 21:00:31,664] INFO - Epoch 29 complete | λ_short≈ -0.000277 | evals short/long=96/12 | total evals=3240 | radius=0.0217\\n[2025-10-21 21:00:42,560] INFO - Epoch 30 complete | λ_short≈ -0.000198 | evals short/long=96/12 | total evals=3348 | radius=0.0217\\n[2025-10-21 21:00:53,513] INFO - Stagnation detected; reseeding around best candidate.\\n[2025-10-21 21:00:53,513] INFO - Epoch 31 complete | λ_short≈ -0.000358 | evals short/long=96/12 | total evals=3456 | radius=0.0184\\n[2025-10-21 21:01:04,585] INFO - Epoch 32 complete | λ_short≈ 0.000086 | evals short/long=96/12 | total evals=3564 | radius=0.0184\\n[2025-10-21 21:01:15,765] INFO - Epoch 33 complete | λ_short≈ -0.000160 | evals short/long=96/12 | total evals=3672 | radius=0.0184\\n[2025-10-21 21:01:26,788] INFO - Epoch 34 complete | λ_short≈ -0.000312 | evals short/long=96/12 | total evals=3780 | radius=0.0184\\n[2025-10-21 21:01:37,900] INFO - Epoch 35 complete | λ_short≈ -0.000099 | evals short/long=96/12 | total evals=3888 | radius=0.0184\\n[2025-10-21 21:01:48,729] INFO - Epoch 36 complete | λ_short≈ -0.000345 | evals short/long=96/12 | total evals=3996 | radius=0.0184\\n[2025-10-21 21:02:00,051] INFO - Stagnation detected; reseeding around best candidate.\\n[2025-10-21 21:02:00,051] INFO - Epoch 37 complete | λ_short≈ -0.000254 | evals short/long=96/12 | total evals=4104 | radius=0.0157\\n[2025-10-21 21:02:11,277] INFO - Epoch 38 complete | λ_short≈ -0.000095 | evals short/long=96/12 | total evals=4212 | radius=0.0157\\n[2025-10-21 21:02:22,460] INFO - Epoch 39 complete | λ_short≈ -0.000499 | evals short/long=96/12 | total evals=4320 | radius=0.0157\\n[2025-10-21 21:02:33,694] INFO - Epoch 40 complete | λ_short≈ -0.000214 | evals short/long=96/12 | total evals=4428 | radius=0.0157\\n[2025-10-21 21:02:44,723] INFO - Epoch 41 complete | λ_short≈ -0.000333 | evals short/long=96/12 | total evals=4536 | radius=0.0157\\n[2025-10-21 21:02:44,723] INFO - Optimization completed | epochs=42 | evals=4536 | best λ≈ -0.000566 | wall=490.7s'"
      ]
     },
     "metadata": {},
     "output_type": "display_data"
    },
    {
     "data": {
      "text/plain": [
       "{'status': 'completed',\n",
       " 'best': {'masses': [1.041211032216705,\n",
       "   0.45419474332579357,\n",
       "   0.0009503809646476818],\n",
       "  'lambda': -0.0005658586991704906,\n",
       "  'fitness': 0.0005658586991704906,\n",
       "  'm1': 1.041211032216705,\n",
       "  'm2': 0.45419474332579357,\n",
       "  'm3': 0.0009503809646476818},\n",
       " 'evals': 4536,\n",
       " 'epochs': 42}"
      ]
     },
     "execution_count": 7,
     "metadata": {},
     "output_type": "execute_result"
    }
   ],
   "source": [
    "controller = ContinuousOptimizationController(cfg, logger=logger)\n",
    "results = controller.run()\n",
    "display(Markdown(\"### Logs capturados\"))\n",
    "display(\"\\n\".join(handler.lines))\n",
    "results"
   ]
  },
  {
   "cell_type": "markdown",
   "id": "732cc34c",
   "metadata": {},
   "source": [
    "## Evaluación comparativa y visualización\n",
    "Contrastamos el exponente de Lyapunov del estado base (masas en la mitad de sus rangos) contra el obtenido por la solución optimizada. Por último, integramos la dinámica con las masas ganadoras para visualizar la trayectoria de los tres cuerpos y observar el comportamiento cerca del límite de estabilidad.\n"
   ]
  },
  {
   "cell_type": "code",
   "execution_count": 8,
   "id": "74398e0f",
   "metadata": {},
   "outputs": [
    {
     "name": "stdout",
     "output_type": "stream",
     "text": [
      "λ inicial = -0.000004, λ óptimo = -0.000566\n"
     ]
    },
    {
     "data": {
      "image/png": "[encoded data removed]",
      "text/plain": [
       "<Figure size 600x600 with 1 Axes>"
      ]
     },
     "metadata": {},
     "output_type": "display_data"
    }
   ],
   "source": [
    "from two_body.logic.fitness import FitnessEvaluator\n",
    "from two_body.core.cache import HierarchicalCache\n",
    "from two_body.simulation.rebound_adapter import ReboundSim\n",
    "\n",
    "cache = HierarchicalCache()\n",
    "evaluator = FitnessEvaluator(cache, cfg)\n",
    "\n",
    "center = tuple((lo + hi) / 2.0 for lo, hi in cfg.mass_bounds)\n",
    "baseline = evaluator.evaluate_batch([center], horizon=\"long\")[0]\n",
    "best_fit = results[\"best\"][\"fitness\"]\n",
    "\n",
    "print(f\"λ inicial = {-baseline:.6f}, λ óptimo = {-best_fit:.6f}\")\n",
    "\n",
    "sim_cls = ReboundSim\n",
    "\n",
    "sim_builder = sim_cls(G=cfg.G, integrator=cfg.integrator)\n",
    "sim = sim_builder.setup_simulation(tuple(results[\"best\"][\"masses\"]), cfg.r0, cfg.v0)\n",
    "traj = sim_builder.integrate(sim, t_end=cfg.t_end_long, dt=cfg.dt)\n",
    "\n",
    "viz = Visualizer(headless=cfg.headless)\n",
    "viz.quick_view([traj[:, i, :3] for i in range(traj.shape[1])])\n"
   ]
  }
 ],
 "metadata": {
  "kernelspec": {
   "display_name": "grav2body",
   "language": "python",
   "name": "python3"
  },
  "language_info": {
   "codemirror_mode": {
    "name": "ipython",
    "version": 3
   },
   "file_extension": ".py",
   "mimetype": "text/x-python",
   "name": "python",
   "nbconvert_exporter": "python",
   "pygments_lexer": "ipython3",
   "version": "3.12.9"
  }
 },
 "nbformat": 4,
 "nbformat_minor": 5
}
