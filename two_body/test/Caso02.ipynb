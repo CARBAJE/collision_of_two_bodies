{
 "cells": [
  {
   "cell_type": "code",
   "execution_count": 1,
   "id": "110ab1ef",
   "metadata": {},
   "outputs": [],
   "source": [
    "import sys\n",
    "from pathlib import Path\n",
    "\n",
    "repo_root = Path.cwd().resolve().parents[1]  # …/collision_of_two_bodies\n",
    "if str(repo_root) not in sys.path:\n",
    "    sys.path.insert(0, str(repo_root))\n"
   ]
  },
  {
   "cell_type": "code",
   "execution_count": 2,
   "id": "e29f23a8",
   "metadata": {},
   "outputs": [],
   "source": [
    "from two_body import Config, set_global_seeds\n",
    "from two_body.core.telemetry import setup_logger\n",
    "from two_body.logic.controller import ContinuousOptimizationController\n",
    "from two_body.presentation.visualization import Visualizer\n",
    "from two_body.simulation.rebound_adapter import ReboundSim\n",
    "import numpy as np\n"
   ]
  },
  {
   "cell_type": "code",
   "execution_count": 3,
   "id": "032b9a39",
   "metadata": {},
   "outputs": [],
   "source": [
    "import logging\n",
    "from IPython.display import display, Markdown\n",
    "\n",
    "class NotebookHandler(logging.Handler):\n",
    "    def __init__(self):\n",
    "        super().__init__()\n",
    "        self.lines = []\n",
    "\n",
    "    def emit(self, record):\n",
    "        msg = self.format(record)\n",
    "        self.lines.append(msg)\n",
    "        print(msg)  # aparece en la celda conforme avanza\n",
    "\n",
    "handler = NotebookHandler()\n",
    "handler.setFormatter(logging.Formatter(\"[%(asctime)s] %(levelname)s - %(message)s\"))\n",
    "\n",
    "logger = setup_logger(level=\"DEBUG\")\n",
    "logger.handlers.clear()          # quita otros handlers previos\n",
    "logger.addHandler(handler)\n",
    "logger.setLevel(logging.DEBUG)\n"
   ]
  },
  {
   "cell_type": "code",
   "execution_count": null,
   "id": "07da2226",
   "metadata": {},
   "outputs": [],
   "source": [
    "case = {\n",
    "    \"t_end_short\": 300.0,\n",
    "    \"t_end_long\": 6000.0,\n",
    "    \"dt\": 0.2,\n",
    "    \"integrator\": \"ias15\",\n",
    "    \"r0\": ((-1.0, 0.0, 0.0), (1.0, 0.0, 0.0), (0.0, 0.3, 0.0)),\n",
    "    \"v0\": ((0.0, -0.6, 0.0), (0.0, 0.6, 0.0), (0.0, 0.0, 0.0)),\n",
    "    \"mass_bounds\": (\n",
    "        (0.45, 0.55),   # estrella 1\n",
    "        (0.45, 0.55),   # estrella 2\n",
    "        (0.0, 1e-4),    # tercer cuerpo casi nulo\n",
    "    ),\n",
    "    \"G\": 1.0,\n",
    "    \"pop_size\": 150,\n",
    "    \"n_gen_step\": 1,\n",
    "    \"crossover\": 0.85,\n",
    "    \"mutation\": 0.05,\n",
    "    \"elitism\": 1,\n",
    "    \"seed\": 1234,\n",
    "    \"max_epochs\": 60,\n",
    "    \"top_k_long\": 15,\n",
    "    \"stagnation_window\": 8,\n",
    "    \"stagnation_tol\": 1e-4,\n",
    "    \"local_radius\": 0.02,\n",
    "    \"radius_decay\": 0.9,\n",
    "    \"time_budget_s\": 1800.0,\n",
    "    \"eval_budget\": 60000,\n",
    "    \"artifacts_dir\": \"artifacts/sitnikov_opt\",\n",
    "    \"save_plots\": True,\n",
    "    \"headless\": False,\n",
    "}\n"
   ]
  },
  {
   "cell_type": "code",
   "execution_count": 5,
   "id": "2eb4fd6f",
   "metadata": {},
   "outputs": [],
   "source": [
    "cfg = Config(**case)\n",
    "set_global_seeds(cfg.seed)\n",
    "logger = setup_logger()\n",
    "\n",
    "class SitnikovReboundSim(ReboundSim):\n",
    "    def setup_simulation(self, *args, **kwargs):\n",
    "        sim = super().setup_simulation(*args, **kwargs)\n",
    "        def clamp(sim_obj):\n",
    "            if len(sim_obj.particles) > 2:\n",
    "                p = sim_obj.particles[2]\n",
    "                p.x = 0.0\n",
    "                p.vx = 0.0\n",
    "        sim.additional_forces = clamp\n",
    "        return sim\n",
    "\n",
    "# Monkeypatch para que FitnessEvaluator use el adaptador sitnikov\n",
    "from two_body.simulation import rebound_adapter\n",
    "rebound_adapter.ReboundSim = SitnikovReboundSim\n"
   ]
  },
  {
   "cell_type": "code",
   "execution_count": 6,
   "id": "25c00c74",
   "metadata": {},
   "outputs": [
    {
     "name": "stdout",
     "output_type": "stream",
     "text": [
      "[2025-10-21 17:55:13,558] WARNING - pymoo unavailable or setup failed: cannot import name 'SBXCrossover' from 'pymoo.operators.crossover.sbx' (c:\\Users\\emicr\\anaconda3\\envs\\grav2body\\Lib\\site-packages\\pymoo\\operators\\crossover\\sbx.py). Using internal sampler.\n",
      "[2025-10-21 17:55:13,559] INFO - Starting optimization | pop=80 | dims=3 | time_budget=1800.0s | eval_budget=6000\n"
     ]
    },
    {
     "name": "stderr",
     "output_type": "stream",
     "text": [
      "c:\\Users\\emicr\\anaconda3\\envs\\grav2body\\Lib\\site-packages\\rebound\\__init__.py:58: UserWarning: pkg_resources is deprecated as an API. See https://setuptools.pypa.io/en/latest/pkg_resources.html. The pkg_resources package is slated for removal as early as 2025-11-30. Refrain from using this package or pin to Setuptools<81.\n",
      "  import pkg_resources\n"
     ]
    },
    {
     "name": "stdout",
     "output_type": "stream",
     "text": [
      "[2025-10-21 17:55:17,757] INFO - Epoch 0 | new global best (short) λ≈ -0.010498 | masses=(0.532414, 0.475715, 1.4e-05)\n",
      "[2025-10-21 17:55:34,443] INFO - Epoch 0 complete | λ_short≈ -0.010498 | evals short/long=80/16 | total evals=96 | radius=0.0200\n",
      "[2025-10-21 17:55:52,000] INFO - Epoch 1 complete | λ_short≈ -0.010498 | evals short/long=80/16 | total evals=192 | radius=0.0200\n",
      "[2025-10-21 17:55:56,126] INFO - Epoch 2 | new global best (short) λ≈ -0.010743 | masses=(0.544603, 0.487263, 4.4e-05)\n",
      "[2025-10-21 17:56:09,846] INFO - Epoch 2 complete | λ_short≈ -0.010743 | evals short/long=80/16 | total evals=288 | radius=0.0200\n",
      "[2025-10-21 17:56:27,558] INFO - Epoch 3 complete | λ_short≈ -0.010743 | evals short/long=80/16 | total evals=384 | radius=0.0200\n",
      "[2025-10-21 17:56:45,280] INFO - Epoch 4 complete | λ_short≈ -0.010743 | evals short/long=80/16 | total evals=480 | radius=0.0200\n",
      "[2025-10-21 17:57:03,584] INFO - Epoch 5 complete | λ_short≈ -0.010743 | evals short/long=80/16 | total evals=576 | radius=0.0200\n",
      "[2025-10-21 17:57:36,749] INFO - Epoch 6 complete | λ_short≈ -0.010743 | evals short/long=80/16 | total evals=672 | radius=0.0200\n",
      "[2025-10-21 17:57:54,684] INFO - Epoch 7 complete | λ_short≈ -0.010743 | evals short/long=80/16 | total evals=768 | radius=0.0200\n",
      "[2025-10-21 17:58:18,379] INFO - Epoch 8 complete | λ_short≈ -0.010743 | evals short/long=80/16 | total evals=864 | radius=0.0200\n",
      "[2025-10-21 17:58:36,279] INFO - Epoch 9 complete | λ_short≈ -0.010743 | evals short/long=80/16 | total evals=960 | radius=0.0200\n",
      "[2025-10-21 17:59:10,467] INFO - Stagnation detected; reseeding around best candidate.\n",
      "[2025-10-21 17:59:10,467] INFO - Epoch 10 complete | λ_short≈ -0.010743 | evals short/long=80/16 | total evals=1056 | radius=0.0180\n",
      "[2025-10-21 17:59:28,139] INFO - Epoch 11 complete | λ_short≈ -0.010743 | evals short/long=80/16 | total evals=1152 | radius=0.0180\n",
      "[2025-10-21 17:59:31,313] INFO - Epoch 12 | new global best (short) λ≈ -0.010860 | masses=(0.55, 0.491343, 0.0001)\n",
      "[2025-10-21 17:59:43,674] INFO - Epoch 12 complete | λ_short≈ -0.010860 | evals short/long=80/16 | total evals=1248 | radius=0.0180\n",
      "[2025-10-21 17:59:46,865] INFO - Epoch 13 | new global best (short) λ≈ -0.011024 | masses=(0.542147, 0.485263, 0.0001)\n",
      "[2025-10-21 17:59:59,613] INFO - Epoch 13 complete | λ_short≈ -0.011024 | evals short/long=80/16 | total evals=1344 | radius=0.0180\n",
      "[2025-10-21 18:00:20,564] INFO - Epoch 14 complete | λ_short≈ -0.011024 | evals short/long=80/16 | total evals=1440 | radius=0.0180\n",
      "[2025-10-21 18:00:35,666] INFO - Epoch 15 complete | λ_short≈ -0.011024 | evals short/long=80/16 | total evals=1536 | radius=0.0180\n",
      "[2025-10-21 18:00:38,967] INFO - Epoch 16 | new global best (short) λ≈ -0.011461 | masses=(0.55, 0.491586, 0.0)\n",
      "[2025-10-21 18:00:50,082] INFO - Epoch 16 complete | λ_short≈ -0.011461 | evals short/long=80/16 | total evals=1632 | radius=0.0180\n",
      "[2025-10-21 18:00:53,235] INFO - Epoch 17 | new global best (short) λ≈ -0.011547 | masses=(0.55, 0.491241, 0.0)\n",
      "[2025-10-21 18:01:06,504] INFO - Epoch 17 complete | λ_short≈ -0.011547 | evals short/long=80/16 | total evals=1728 | radius=0.0180\n",
      "[2025-10-21 18:01:09,685] INFO - Epoch 18 | new global best (short) λ≈ -0.011690 | masses=(0.55, 0.492208, 0.0)\n",
      "[2025-10-21 18:01:21,820] INFO - Epoch 18 complete | λ_short≈ -0.011690 | evals short/long=80/16 | total evals=1824 | radius=0.0180\n",
      "[2025-10-21 18:01:37,834] INFO - Epoch 19 complete | λ_short≈ -0.011690 | evals short/long=80/16 | total evals=1920 | radius=0.0180\n",
      "[2025-10-21 18:02:12,736] INFO - Epoch 20 complete | λ_short≈ -0.011690 | evals short/long=80/16 | total evals=2016 | radius=0.0180\n",
      "[2025-10-21 18:02:16,176] INFO - Epoch 21 | new global best (short) λ≈ -0.011726 | masses=(0.55, 0.492005, 0.0)\n",
      "[2025-10-21 18:02:29,470] INFO - Epoch 21 complete | λ_short≈ -0.011726 | evals short/long=80/16 | total evals=2112 | radius=0.0180\n",
      "[2025-10-21 18:02:45,289] INFO - Epoch 22 complete | λ_short≈ -0.011726 | evals short/long=80/16 | total evals=2208 | radius=0.0180\n",
      "[2025-10-21 18:03:01,176] INFO - Epoch 23 complete | λ_short≈ -0.011726 | evals short/long=80/16 | total evals=2304 | radius=0.0180\n",
      "[2025-10-21 18:03:16,829] INFO - Epoch 24 complete | λ_short≈ -0.011726 | evals short/long=80/16 | total evals=2400 | radius=0.0180\n",
      "[2025-10-21 18:03:31,852] INFO - Epoch 25 complete | λ_short≈ -0.011726 | evals short/long=80/16 | total evals=2496 | radius=0.0180\n",
      "[2025-10-21 18:03:47,909] INFO - Epoch 26 complete | λ_short≈ -0.011726 | evals short/long=80/16 | total evals=2592 | radius=0.0180\n",
      "[2025-10-21 18:04:03,982] INFO - Epoch 27 complete | λ_short≈ -0.011726 | evals short/long=80/16 | total evals=2688 | radius=0.0180\n",
      "[2025-10-21 18:04:18,538] INFO - Epoch 28 complete | λ_short≈ -0.011726 | evals short/long=80/16 | total evals=2784 | radius=0.0180\n",
      "[2025-10-21 18:04:34,615] INFO - Stagnation detected; reseeding around best candidate.\n",
      "[2025-10-21 18:04:34,615] INFO - Epoch 29 complete | λ_short≈ -0.011726 | evals short/long=80/16 | total evals=2880 | radius=0.0162\n",
      "[2025-10-21 18:04:49,956] INFO - Epoch 30 complete | λ_short≈ -0.011726 | evals short/long=80/16 | total evals=2976 | radius=0.0162\n",
      "[2025-10-21 18:05:06,162] INFO - Epoch 31 complete | λ_short≈ -0.011726 | evals short/long=80/16 | total evals=3072 | radius=0.0162\n",
      "[2025-10-21 18:05:22,600] INFO - Epoch 32 complete | λ_short≈ -0.011726 | evals short/long=80/16 | total evals=3168 | radius=0.0162\n",
      "[2025-10-21 18:05:39,333] INFO - Epoch 33 complete | λ_short≈ -0.011726 | evals short/long=80/16 | total evals=3264 | radius=0.0162\n",
      "[2025-10-21 18:05:55,446] INFO - Epoch 34 complete | λ_short≈ -0.011726 | evals short/long=80/16 | total evals=3360 | radius=0.0162\n",
      "[2025-10-21 18:06:11,957] INFO - Epoch 35 complete | λ_short≈ -0.011726 | evals short/long=80/16 | total evals=3456 | radius=0.0162\n",
      "[2025-10-21 18:06:29,136] INFO - Epoch 36 complete | λ_short≈ -0.011726 | evals short/long=80/16 | total evals=3552 | radius=0.0162\n",
      "[2025-10-21 18:06:45,540] INFO - Stagnation detected; reseeding around best candidate.\n",
      "[2025-10-21 18:06:45,541] INFO - Epoch 37 complete | λ_short≈ -0.011726 | evals short/long=80/16 | total evals=3648 | radius=0.0146\n",
      "[2025-10-21 18:07:01,692] INFO - Epoch 38 complete | λ_short≈ -0.011726 | evals short/long=80/16 | total evals=3744 | radius=0.0146\n",
      "[2025-10-21 18:07:18,233] INFO - Epoch 39 complete | λ_short≈ -0.011726 | evals short/long=80/16 | total evals=3840 | radius=0.0146\n",
      "[2025-10-21 18:07:34,334] INFO - Epoch 40 complete | λ_short≈ -0.011726 | evals short/long=80/16 | total evals=3936 | radius=0.0146\n",
      "[2025-10-21 18:07:37,772] INFO - Epoch 41 | new global best (short) λ≈ -0.012085 | masses=(0.55, 0.491208, 0.0)\n",
      "[2025-10-21 18:07:50,707] INFO - Epoch 41 complete | λ_short≈ -0.012085 | evals short/long=80/16 | total evals=4032 | radius=0.0146\n",
      "[2025-10-21 18:08:07,239] INFO - Epoch 42 complete | λ_short≈ -0.012085 | evals short/long=80/16 | total evals=4128 | radius=0.0146\n",
      "[2025-10-21 18:08:24,272] INFO - Epoch 43 complete | λ_short≈ -0.012085 | evals short/long=80/16 | total evals=4224 | radius=0.0146\n",
      "[2025-10-21 18:08:41,041] INFO - Epoch 44 complete | λ_short≈ -0.012085 | evals short/long=80/16 | total evals=4320 | radius=0.0146\n",
      "[2025-10-21 18:08:57,727] INFO - Epoch 45 complete | λ_short≈ -0.012085 | evals short/long=80/16 | total evals=4416 | radius=0.0146\n",
      "[2025-10-21 18:09:14,177] INFO - Epoch 46 complete | λ_short≈ -0.012085 | evals short/long=80/16 | total evals=4512 | radius=0.0146\n",
      "[2025-10-21 18:09:30,429] INFO - Epoch 47 complete | λ_short≈ -0.012085 | evals short/long=80/16 | total evals=4608 | radius=0.0146\n",
      "[2025-10-21 18:09:47,158] INFO - Epoch 48 complete | λ_short≈ -0.012085 | evals short/long=80/16 | total evals=4704 | radius=0.0146\n",
      "[2025-10-21 18:10:04,150] INFO - Stagnation detected; reseeding around best candidate.\n",
      "[2025-10-21 18:10:04,150] INFO - Epoch 49 complete | λ_short≈ -0.012085 | evals short/long=80/16 | total evals=4800 | radius=0.0131\n",
      "[2025-10-21 18:10:20,835] INFO - Epoch 50 complete | λ_short≈ -0.012085 | evals short/long=80/16 | total evals=4896 | radius=0.0131\n",
      "[2025-10-21 18:10:37,693] INFO - Epoch 51 complete | λ_short≈ -0.012085 | evals short/long=80/16 | total evals=4992 | radius=0.0131\n",
      "[2025-10-21 18:10:54,701] INFO - Epoch 52 complete | λ_short≈ -0.012085 | evals short/long=80/16 | total evals=5088 | radius=0.0131\n",
      "[2025-10-21 18:11:11,742] INFO - Epoch 53 complete | λ_short≈ -0.012085 | evals short/long=80/16 | total evals=5184 | radius=0.0131\n",
      "[2025-10-21 18:11:28,593] INFO - Epoch 54 complete | λ_short≈ -0.012085 | evals short/long=80/16 | total evals=5280 | radius=0.0131\n",
      "[2025-10-21 18:11:45,144] INFO - Epoch 55 complete | λ_short≈ -0.012085 | evals short/long=80/16 | total evals=5376 | radius=0.0131\n",
      "[2025-10-21 18:12:01,983] INFO - Epoch 56 complete | λ_short≈ -0.012085 | evals short/long=80/16 | total evals=5472 | radius=0.0131\n",
      "[2025-10-21 18:12:18,699] INFO - Stagnation detected; reseeding around best candidate.\n",
      "[2025-10-21 18:12:18,699] INFO - Epoch 57 complete | λ_short≈ -0.012085 | evals short/long=80/16 | total evals=5568 | radius=0.0118\n",
      "[2025-10-21 18:12:35,665] INFO - Epoch 58 complete | λ_short≈ -0.012085 | evals short/long=80/16 | total evals=5664 | radius=0.0118\n",
      "[2025-10-21 18:12:52,575] INFO - Epoch 59 complete | λ_short≈ -0.012085 | evals short/long=80/16 | total evals=5760 | radius=0.0118\n",
      "[2025-10-21 18:12:52,575] INFO - Optimization completed | epochs=60 | evals=5760 | best λ≈ -0.012085 | wall=1059.0s\n"
     ]
    },
    {
     "data": {
      "text/markdown": [
       "### Logs capturados"
      ],
      "text/plain": [
       "<IPython.core.display.Markdown object>"
      ]
     },
     "metadata": {},
     "output_type": "display_data"
    },
    {
     "data": {
      "text/plain": [
       "\"[2025-10-21 17:55:13,558] WARNING - pymoo unavailable or setup failed: cannot import name 'SBXCrossover' from 'pymoo.operators.crossover.sbx' (c:\\\\Users\\\\emicr\\\\anaconda3\\\\envs\\\\grav2body\\\\Lib\\\\site-packages\\\\pymoo\\\\operators\\\\crossover\\\\sbx.py). Using internal sampler.\\n[2025-10-21 17:55:13,559] INFO - Starting optimization | pop=80 | dims=3 | time_budget=1800.0s | eval_budget=6000\\n[2025-10-21 17:55:17,757] INFO - Epoch 0 | new global best (short) λ≈ -0.010498 | masses=(0.532414, 0.475715, 1.4e-05)\\n[2025-10-21 17:55:34,443] INFO - Epoch 0 complete | λ_short≈ -0.010498 | evals short/long=80/16 | total evals=96 | radius=0.0200\\n[2025-10-21 17:55:52,000] INFO - Epoch 1 complete | λ_short≈ -0.010498 | evals short/long=80/16 | total evals=192 | radius=0.0200\\n[2025-10-21 17:55:56,126] INFO - Epoch 2 | new global best (short) λ≈ -0.010743 | masses=(0.544603, 0.487263, 4.4e-05)\\n[2025-10-21 17:56:09,846] INFO - Epoch 2 complete | λ_short≈ -0.010743 | evals short/long=80/16 | total evals=288 | radius=0.0200\\n[2025-10-21 17:56:27,558] INFO - Epoch 3 complete | λ_short≈ -0.010743 | evals short/long=80/16 | total evals=384 | radius=0.0200\\n[2025-10-21 17:56:45,280] INFO - Epoch 4 complete | λ_short≈ -0.010743 | evals short/long=80/16 | total evals=480 | radius=0.0200\\n[2025-10-21 17:57:03,584] INFO - Epoch 5 complete | λ_short≈ -0.010743 | evals short/long=80/16 | total evals=576 | radius=0.0200\\n[2025-10-21 17:57:36,749] INFO - Epoch 6 complete | λ_short≈ -0.010743 | evals short/long=80/16 | total evals=672 | radius=0.0200\\n[2025-10-21 17:57:54,684] INFO - Epoch 7 complete | λ_short≈ -0.010743 | evals short/long=80/16 | total evals=768 | radius=0.0200\\n[2025-10-21 17:58:18,379] INFO - Epoch 8 complete | λ_short≈ -0.010743 | evals short/long=80/16 | total evals=864 | radius=0.0200\\n[2025-10-21 17:58:36,279] INFO - Epoch 9 complete | λ_short≈ -0.010743 | evals short/long=80/16 | total evals=960 | radius=0.0200\\n[2025-10-21 17:59:10,467] INFO - Stagnation detected; reseeding around best candidate.\\n[2025-10-21 17:59:10,467] INFO - Epoch 10 complete | λ_short≈ -0.010743 | evals short/long=80/16 | total evals=1056 | radius=0.0180\\n[2025-10-21 17:59:28,139] INFO - Epoch 11 complete | λ_short≈ -0.010743 | evals short/long=80/16 | total evals=1152 | radius=0.0180\\n[2025-10-21 17:59:31,313] INFO - Epoch 12 | new global best (short) λ≈ -0.010860 | masses=(0.55, 0.491343, 0.0001)\\n[2025-10-21 17:59:43,674] INFO - Epoch 12 complete | λ_short≈ -0.010860 | evals short/long=80/16 | total evals=1248 | radius=0.0180\\n[2025-10-21 17:59:46,865] INFO - Epoch 13 | new global best (short) λ≈ -0.011024 | masses=(0.542147, 0.485263, 0.0001)\\n[2025-10-21 17:59:59,613] INFO - Epoch 13 complete | λ_short≈ -0.011024 | evals short/long=80/16 | total evals=1344 | radius=0.0180\\n[2025-10-21 18:00:20,564] INFO - Epoch 14 complete | λ_short≈ -0.011024 | evals short/long=80/16 | total evals=1440 | radius=0.0180\\n[2025-10-21 18:00:35,666] INFO - Epoch 15 complete | λ_short≈ -0.011024 | evals short/long=80/16 | total evals=1536 | radius=0.0180\\n[2025-10-21 18:00:38,967] INFO - Epoch 16 | new global best (short) λ≈ -0.011461 | masses=(0.55, 0.491586, 0.0)\\n[2025-10-21 18:00:50,082] INFO - Epoch 16 complete | λ_short≈ -0.011461 | evals short/long=80/16 | total evals=1632 | radius=0.0180\\n[2025-10-21 18:00:53,235] INFO - Epoch 17 | new global best (short) λ≈ -0.011547 | masses=(0.55, 0.491241, 0.0)\\n[2025-10-21 18:01:06,504] INFO - Epoch 17 complete | λ_short≈ -0.011547 | evals short/long=80/16 | total evals=1728 | radius=0.0180\\n[2025-10-21 18:01:09,685] INFO - Epoch 18 | new global best (short) λ≈ -0.011690 | masses=(0.55, 0.492208, 0.0)\\n[2025-10-21 18:01:21,820] INFO - Epoch 18 complete | λ_short≈ -0.011690 | evals short/long=80/16 | total evals=1824 | radius=0.0180\\n[2025-10-21 18:01:37,834] INFO - Epoch 19 complete | λ_short≈ -0.011690 | evals short/long=80/16 | total evals=1920 | radius=0.0180\\n[2025-10-21 18:02:12,736] INFO - Epoch 20 complete | λ_short≈ -0.011690 | evals short/long=80/16 | total evals=2016 | radius=0.0180\\n[2025-10-21 18:02:16,176] INFO - Epoch 21 | new global best (short) λ≈ -0.011726 | masses=(0.55, 0.492005, 0.0)\\n[2025-10-21 18:02:29,470] INFO - Epoch 21 complete | λ_short≈ -0.011726 | evals short/long=80/16 | total evals=2112 | radius=0.0180\\n[2025-10-21 18:02:45,289] INFO - Epoch 22 complete | λ_short≈ -0.011726 | evals short/long=80/16 | total evals=2208 | radius=0.0180\\n[2025-10-21 18:03:01,176] INFO - Epoch 23 complete | λ_short≈ -0.011726 | evals short/long=80/16 | total evals=2304 | radius=0.0180\\n[2025-10-21 18:03:16,829] INFO - Epoch 24 complete | λ_short≈ -0.011726 | evals short/long=80/16 | total evals=2400 | radius=0.0180\\n[2025-10-21 18:03:31,852] INFO - Epoch 25 complete | λ_short≈ -0.011726 | evals short/long=80/16 | total evals=2496 | radius=0.0180\\n[2025-10-21 18:03:47,909] INFO - Epoch 26 complete | λ_short≈ -0.011726 | evals short/long=80/16 | total evals=2592 | radius=0.0180\\n[2025-10-21 18:04:03,982] INFO - Epoch 27 complete | λ_short≈ -0.011726 | evals short/long=80/16 | total evals=2688 | radius=0.0180\\n[2025-10-21 18:04:18,538] INFO - Epoch 28 complete | λ_short≈ -0.011726 | evals short/long=80/16 | total evals=2784 | radius=0.0180\\n[2025-10-21 18:04:34,615] INFO - Stagnation detected; reseeding around best candidate.\\n[2025-10-21 18:04:34,615] INFO - Epoch 29 complete | λ_short≈ -0.011726 | evals short/long=80/16 | total evals=2880 | radius=0.0162\\n[2025-10-21 18:04:49,956] INFO - Epoch 30 complete | λ_short≈ -0.011726 | evals short/long=80/16 | total evals=2976 | radius=0.0162\\n[2025-10-21 18:05:06,162] INFO - Epoch 31 complete | λ_short≈ -0.011726 | evals short/long=80/16 | total evals=3072 | radius=0.0162\\n[2025-10-21 18:05:22,600] INFO - Epoch 32 complete | λ_short≈ -0.011726 | evals short/long=80/16 | total evals=3168 | radius=0.0162\\n[2025-10-21 18:05:39,333] INFO - Epoch 33 complete | λ_short≈ -0.011726 | evals short/long=80/16 | total evals=3264 | radius=0.0162\\n[2025-10-21 18:05:55,446] INFO - Epoch 34 complete | λ_short≈ -0.011726 | evals short/long=80/16 | total evals=3360 | radius=0.0162\\n[2025-10-21 18:06:11,957] INFO - Epoch 35 complete | λ_short≈ -0.011726 | evals short/long=80/16 | total evals=3456 | radius=0.0162\\n[2025-10-21 18:06:29,136] INFO - Epoch 36 complete | λ_short≈ -0.011726 | evals short/long=80/16 | total evals=3552 | radius=0.0162\\n[2025-10-21 18:06:45,540] INFO - Stagnation detected; reseeding around best candidate.\\n[2025-10-21 18:06:45,541] INFO - Epoch 37 complete | λ_short≈ -0.011726 | evals short/long=80/16 | total evals=3648 | radius=0.0146\\n[2025-10-21 18:07:01,692] INFO - Epoch 38 complete | λ_short≈ -0.011726 | evals short/long=80/16 | total evals=3744 | radius=0.0146\\n[2025-10-21 18:07:18,233] INFO - Epoch 39 complete | λ_short≈ -0.011726 | evals short/long=80/16 | total evals=3840 | radius=0.0146\\n[2025-10-21 18:07:34,334] INFO - Epoch 40 complete | λ_short≈ -0.011726 | evals short/long=80/16 | total evals=3936 | radius=0.0146\\n[2025-10-21 18:07:37,772] INFO - Epoch 41 | new global best (short) λ≈ -0.012085 | masses=(0.55, 0.491208, 0.0)\\n[2025-10-21 18:07:50,707] INFO - Epoch 41 complete | λ_short≈ -0.012085 | evals short/long=80/16 | total evals=4032 | radius=0.0146\\n[2025-10-21 18:08:07,239] INFO - Epoch 42 complete | λ_short≈ -0.012085 | evals short/long=80/16 | total evals=4128 | radius=0.0146\\n[2025-10-21 18:08:24,272] INFO - Epoch 43 complete | λ_short≈ -0.012085 | evals short/long=80/16 | total evals=4224 | radius=0.0146\\n[2025-10-21 18:08:41,041] INFO - Epoch 44 complete | λ_short≈ -0.012085 | evals short/long=80/16 | total evals=4320 | radius=0.0146\\n[2025-10-21 18:08:57,727] INFO - Epoch 45 complete | λ_short≈ -0.012085 | evals short/long=80/16 | total evals=4416 | radius=0.0146\\n[2025-10-21 18:09:14,177] INFO - Epoch 46 complete | λ_short≈ -0.012085 | evals short/long=80/16 | total evals=4512 | radius=0.0146\\n[2025-10-21 18:09:30,429] INFO - Epoch 47 complete | λ_short≈ -0.012085 | evals short/long=80/16 | total evals=4608 | radius=0.0146\\n[2025-10-21 18:09:47,158] INFO - Epoch 48 complete | λ_short≈ -0.012085 | evals short/long=80/16 | total evals=4704 | radius=0.0146\\n[2025-10-21 18:10:04,150] INFO - Stagnation detected; reseeding around best candidate.\\n[2025-10-21 18:10:04,150] INFO - Epoch 49 complete | λ_short≈ -0.012085 | evals short/long=80/16 | total evals=4800 | radius=0.0131\\n[2025-10-21 18:10:20,835] INFO - Epoch 50 complete | λ_short≈ -0.012085 | evals short/long=80/16 | total evals=4896 | radius=0.0131\\n[2025-10-21 18:10:37,693] INFO - Epoch 51 complete | λ_short≈ -0.012085 | evals short/long=80/16 | total evals=4992 | radius=0.0131\\n[2025-10-21 18:10:54,701] INFO - Epoch 52 complete | λ_short≈ -0.012085 | evals short/long=80/16 | total evals=5088 | radius=0.0131\\n[2025-10-21 18:11:11,742] INFO - Epoch 53 complete | λ_short≈ -0.012085 | evals short/long=80/16 | total evals=5184 | radius=0.0131\\n[2025-10-21 18:11:28,593] INFO - Epoch 54 complete | λ_short≈ -0.012085 | evals short/long=80/16 | total evals=5280 | radius=0.0131\\n[2025-10-21 18:11:45,144] INFO - Epoch 55 complete | λ_short≈ -0.012085 | evals short/long=80/16 | total evals=5376 | radius=0.0131\\n[2025-10-21 18:12:01,983] INFO - Epoch 56 complete | λ_short≈ -0.012085 | evals short/long=80/16 | total evals=5472 | radius=0.0131\\n[2025-10-21 18:12:18,699] INFO - Stagnation detected; reseeding around best candidate.\\n[2025-10-21 18:12:18,699] INFO - Epoch 57 complete | λ_short≈ -0.012085 | evals short/long=80/16 | total evals=5568 | radius=0.0118\\n[2025-10-21 18:12:35,665] INFO - Epoch 58 complete | λ_short≈ -0.012085 | evals short/long=80/16 | total evals=5664 | radius=0.0118\\n[2025-10-21 18:12:52,575] INFO - Epoch 59 complete | λ_short≈ -0.012085 | evals short/long=80/16 | total evals=5760 | radius=0.0118\\n[2025-10-21 18:12:52,575] INFO - Optimization completed | epochs=60 | evals=5760 | best λ≈ -0.012085 | wall=1059.0s\""
      ]
     },
     "metadata": {},
     "output_type": "display_data"
    },
    {
     "data": {
      "text/plain": [
       "{'status': 'completed',\n",
       " 'best': {'masses': [0.55, 0.4912081196325653, 0.0],\n",
       "  'lambda': -0.012085034637521896,\n",
       "  'fitness': 0.012085034637521896,\n",
       "  'm1': 0.55,\n",
       "  'm2': 0.4912081196325653,\n",
       "  'm3': 0.0},\n",
       " 'evals': 5760,\n",
       " 'epochs': 60}"
      ]
     },
     "execution_count": 6,
     "metadata": {},
     "output_type": "execute_result"
    }
   ],
   "source": [
    "controller = ContinuousOptimizationController(cfg, logger=logger)\n",
    "results = controller.run()\n",
    "display(Markdown(\"### Logs capturados\"))\n",
    "display(\"\\n\".join(handler.lines))\n",
    "results"
   ]
  },
  {
   "cell_type": "code",
   "execution_count": null,
   "id": "74398e0f",
   "metadata": {},
   "outputs": [],
   "source": [
    "from two_body.logic.fitness import FitnessEvaluator\n",
    "from two_body.core.cache import HierarchicalCache\n",
    "\n",
    "cache = HierarchicalCache()\n",
    "evaluator = FitnessEvaluator(cache, cfg)\n",
    "\n",
    "center = tuple((lo + hi) / 2.0 for lo, hi in cfg.mass_bounds)\n",
    "baseline = evaluator.evaluate_batch([center], horizon=\"long\")[0]\n",
    "best = results[\"best\"][\"fitness\"]\n",
    "\n",
    "print(f\"λ inicial = {-baseline:.6f}, λ óptimo = {-best:.6f}\")\n",
    "\n",
    "\n",
    "print(f\"λ inicial = {-baseline:.6f}, λ óptimo = {-best:.6f}\")\n",
    "\n",
    "viz = Visualizer(headless=cfg.headless)\n",
    "sim_builder = SitnikovReboundSim(G=cfg.G, integrator=cfg.integrator)\n",
    "sim = sim_builder.setup_simulation(results[\"best\"][\"masses\"], cfg.r0, cfg.v0)\n",
    "traj = sim_builder.integrate(sim, t_end=cfg.t_end_long, dt=cfg.dt)\n",
    "viz.quick_view([traj[:, 0, :3], traj[:, 1, :3], traj[:, 2, :3]])\n"
   ]
  }
 ],
 "metadata": {
  "kernelspec": {
   "display_name": "grav2body",
   "language": "python",
   "name": "python3"
  },
  "language_info": {
   "codemirror_mode": {
    "name": "ipython",
    "version": 3
   },
   "file_extension": ".py",
   "mimetype": "text/x-python",
   "name": "python",
   "nbconvert_exporter": "python",
   "pygments_lexer": "ipython3",
   "version": "3.12.9"
  }
 },
 "nbformat": 4,
 "nbformat_minor": 5
}
